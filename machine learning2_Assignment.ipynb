{
 "cells": [
  {
   "cell_type": "markdown",
   "id": "37707d40-1a75-4f04-a028-928b6ca94b53",
   "metadata": {},
   "source": [
    "Q1: Define overfitting and underfitting in machine learning. What are the consequences of each, and how\r\n",
    "can they be mitigated?"
   ]
  },
  {
   "cell_type": "markdown",
   "id": "f8cd614b-2e9b-4f58-80b4-514293091143",
   "metadata": {},
   "source": [
    "over fitting:-\n",
    "When accurecy of train model is high \n",
    "and test result is low then there is low bias and high variance,it will generate the prediction errors.\n",
    "\n",
    "underfitting:-When accurecy of train model is low\n",
    "and test result is low then there is high bias and low variance\n",
    "\n",
    "we can prevent under fitting by\n",
    "By increasing the training time of the model.\r\n",
    "By increasing the number of features."
   ]
  },
  {
   "cell_type": "markdown",
   "id": "d2fb4d9f-6d01-4bc3-8d3d-37d1417a3494",
   "metadata": {},
   "source": [
    "Q2: How can we reduce overfitting? Explain in brief."
   ]
  },
  {
   "cell_type": "markdown",
   "id": "a41d2f12-bb3a-4d6c-8f5c-0b948d95ae1c",
   "metadata": {},
   "source": [
    "Both overfitting and underfitting cause the degraded performance of the machine learning model. But the main cause is overfitting, so there are some ways by which we can reduce the occurrence of overfitting in our model.\n",
    "\n",
    "Cross-Validation\n",
    "\n",
    "Training with more data\n",
    "\n",
    "Removing features\n",
    "\n",
    "Early stopping the training\n",
    "\n",
    "Regularization\n",
    "\n",
    "Ensembling"
   ]
  },
  {
   "cell_type": "markdown",
   "id": "68b3ad40-a213-468d-a6da-1bdd968a39e3",
   "metadata": {},
   "source": [
    "Q3: Explain underfitting. List scenarios where underfitting can occur in ML."
   ]
  },
  {
   "cell_type": "markdown",
   "id": "fbc71258-ac3d-4c8c-8c8e-7b9c852495e0",
   "metadata": {},
   "source": [
    "Ans:-Its occurrence simply means that our model or the algorithm does not fit the data well enough. It usually happens when we have less data to build an accurate model and also when we try to build a linear model with fewer non-linear data"
   ]
  },
  {
   "cell_type": "markdown",
   "id": "25413a7d-87eb-49cf-b0b1-9dd6d5e1adb7",
   "metadata": {},
   "source": [
    "One common example of underfitting is when we use a linear model to fit a dataset that has a non-linear relationship between the input and output variables. In this case, the linear model is too simple to capture the non-linear patterns in the data and will underfit the training data."
   ]
  },
  {
   "cell_type": "markdown",
   "id": "c6745f6c-b1f5-4fdf-9ea3-23503843fbe7",
   "metadata": {},
   "source": [
    "Q4: Explain the bias-variance tradeoff in machine learning. What is the relationship between bias and\n",
    "variance, and how do they affect model performance?"
   ]
  },
  {
   "cell_type": "markdown",
   "id": "f405c7ee-3e82-410d-8636-80adac9ea343",
   "metadata": {},
   "source": [
    "Ans:- If the algorithm is too simple (hypothesis with linear equation) then it may be on high bias and low variance condition and thus is error-prone. If algorithms fit too complex (hypothesis with high degree equation) then it may be on high variance and low bias. In the latter condition, the new entries will not perform well. Well, there is something between both of these conditions, known as a Trade-off or Bias Variance Trade-off. This tradeoff in complexity is why there is a tradeoff between bias and variance.\n",
    "\n",
    "\n"
   ]
  },
  {
   "cell_type": "markdown",
   "id": "1f8c9923-a45a-43ec-b88a-7c568fb19669",
   "metadata": {},
   "source": [
    "Q5: Discuss some common methods for detecting overfitting and underfitting in machine learning models.\n",
    "How can you determine whether your model is overfitting or underfitting?"
   ]
  },
  {
   "cell_type": "markdown",
   "id": "ec65d7cd-0f12-440d-b45d-c5219d073f90",
   "metadata": {},
   "source": [
    "Ans:- We can determine whether a predictive model is underfitting or overfitting the training data by looking at the prediction error on the training data and the evaluation data. Your model is underfitting the training data when the model performs poorly on the training data.\n",
    "\n",
    "To Determine whether a model is overfitting or under fitting we can check bias and variance level \n",
    "\n",
    "over fitting means low bias high variance\n",
    "under fitting meance high bias low variance"
   ]
  },
  {
   "cell_type": "markdown",
   "id": "26e69529-5233-41b7-b070-c6ee5b2f01a0",
   "metadata": {},
   "source": [
    "Q6: Compare and contrast bias and variance in machine learning. What are some examples of high bias\r\n",
    "and high variance models, and how do they differ in terms of their performance?"
   ]
  },
  {
   "cell_type": "markdown",
   "id": "92aa7a87-d1ec-47c5-973b-e99c100dec1e",
   "metadata": {},
   "source": [
    "Ans:- High Bias - Low Variance (Underfitting): Predictions are consistent, but inaccurate on average. This can happen when the model uses very few parameters. High Bias - High Variance: Predictions are inconsistent and inaccurate on average."
   ]
  },
  {
   "cell_type": "markdown",
   "id": "e16df66e-6d3c-4971-9690-873fa9a9eb9a",
   "metadata": {},
   "source": [
    "Q7: What is regularization in machine learning, and how can it be used to prevent overfitting? Describe\n",
    "some common regularization techniques and how they work."
   ]
  },
  {
   "cell_type": "markdown",
   "id": "fe01d7fa-cd17-445e-9ee5-c4b515bb3281",
   "metadata": {},
   "source": [
    "Ans:- Regularization is a technique that adds information to a model to prevent the occurrence of overfitting. It is a type of regression that minimizes the coefficient estimates to zero to reduce the capacity (size) of a model. In this context, the reduction of the capacity of a model involves the removal of extra weights."
   ]
  },
  {
   "cell_type": "code",
   "execution_count": null,
   "id": "46d7e606-39ac-46a1-8a50-42808648f875",
   "metadata": {},
   "outputs": [],
   "source": []
  }
 ],
 "metadata": {
  "kernelspec": {
   "display_name": "Python 3 (ipykernel)",
   "language": "python",
   "name": "python3"
  },
  "language_info": {
   "codemirror_mode": {
    "name": "ipython",
    "version": 3
   },
   "file_extension": ".py",
   "mimetype": "text/x-python",
   "name": "python",
   "nbconvert_exporter": "python",
   "pygments_lexer": "ipython3",
   "version": "3.10.0"
  }
 },
 "nbformat": 4,
 "nbformat_minor": 5
}
